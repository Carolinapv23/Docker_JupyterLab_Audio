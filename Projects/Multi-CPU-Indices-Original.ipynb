{
 "cells": [
  {
   "cell_type": "code",
   "execution_count": 1,
   "id": "844e51e2",
   "metadata": {
    "tags": []
   },
   "outputs": [],
   "source": [
    "import pandas as pd\n",
    "import os\n",
    "import time\n",
    "import matplotlib.pyplot as plt\n",
    "\n",
    "# Parallel processing packages\n",
    "# from functools import partial\n",
    "from tqdm import tqdm\n",
    "from concurrent import futures\n",
    "\n",
    "from maad import sound, features\n",
    "from maad.util import date_parser\n",
    "import multiprocessing as mp"
   ]
  },
  {
   "cell_type": "code",
   "execution_count": 2,
   "id": "40853140-f91a-49e9-8f14-37afc3772dfa",
   "metadata": {
    "tags": []
   },
   "outputs": [
    {
     "name": "stdout",
     "output_type": "stream",
     "text": [
      "Collecting openpyxl\n",
      "  Downloading openpyxl-3.1.2-py2.py3-none-any.whl (249 kB)\n",
      "\u001b[2K     \u001b[90m━━━━━━━━━━━━━━━━━━━━━━━━━━━━━━━━━━━━━━━\u001b[0m \u001b[32m250.0/250.0 kB\u001b[0m \u001b[31m1.8 MB/s\u001b[0m eta \u001b[36m0:00:00\u001b[0ma \u001b[36m0:00:01\u001b[0m\n",
      "\u001b[?25hCollecting et-xmlfile (from openpyxl)\n",
      "  Downloading et_xmlfile-1.1.0-py3-none-any.whl (4.7 kB)\n",
      "Installing collected packages: et-xmlfile, openpyxl\n",
      "Successfully installed et-xmlfile-1.1.0 openpyxl-3.1.2\n",
      "\u001b[33mWARNING: Running pip as the 'root' user can result in broken permissions and conflicting behaviour with the system package manager. It is recommended to use a virtual environment instead: https://pip.pypa.io/warnings/venv\u001b[0m\u001b[33m\n",
      "\u001b[0m"
     ]
    }
   ],
   "source": [
    "!pip install openpyxl"
   ]
  },
  {
   "cell_type": "code",
   "execution_count": 3,
   "id": "c4120b3b",
   "metadata": {
    "tags": []
   },
   "outputs": [],
   "source": [
    "def single_file_processing (audio_path,\n",
    "                            date) :\n",
    "    \"\"\"\n",
    "    Parameters\n",
    "    ----------\n",
    "    audio_path : string\n",
    "        full path to the audio file (.wav) to process.\n",
    "        The full path is in the dataframe given by the function date_parser\n",
    "    date : datetime\n",
    "        date of recording of the audio file.\n",
    "        The date is in the dataframe given by the function date_parser\n",
    "\n",
    "    Returns\n",
    "    -------\n",
    "    df_indices : dataframe\n",
    "        Dataframe containing all the temporal and spectral indices, as well as\n",
    "        the audio path ('file' column) and the recording date ('Date' column)\n",
    "\n",
    "    \"\"\"\n",
    "\n",
    "    # Load the original sound (16bits) and get the sampling frequency fs\n",
    "    try :\n",
    "        wave,fs = sound.load(filename=audio_path,\n",
    "                            channel='left',\n",
    "                            detrend=True,\n",
    "                            verbose=False)\n",
    "\n",
    "        \"\"\" ===================================================================\n",
    "                        Computation in the time domain\n",
    "        ====================================================================\"\"\"\n",
    "\n",
    "        # compute all the audio indices and store them into a DataFrame\n",
    "        # dB_threshold and rejectDuration are used to select audio events.\n",
    "        df_audio_ind = features.all_temporal_alpha_indices(\n",
    "                                    wave, fs,\n",
    "                                    gain = G, sensibility = S,\n",
    "                                    dB_threshold = 3, rejectDuration = 0.01,\n",
    "                                    verbose = False, display = False)\n",
    "\n",
    "        \"\"\" ===================================================================\n",
    "                        Computation in the frequency domain\n",
    "        ====================================================================\"\"\"\n",
    "\n",
    "        # Compute the Power Spectrogram Density (PSD) : Sxx_power\n",
    "        Sxx_power,tn,fn,ext = sound.spectrogram (\n",
    "                                        wave, fs, window='hann',\n",
    "                                        nperseg = 1024, noverlap=1024//2,\n",
    "                                        verbose = False, display = False,\n",
    "                                        savefig = None)\n",
    "\n",
    "        # compute all the spectral indices and store them into a DataFrame\n",
    "        # flim_low, flim_mid, flim_hi corresponds to the frequency limits in Hz\n",
    "        # that are required to compute somes indices (i.e. NDSI)\n",
    "        # if R_compatible is set to 'soundecology', then the output are similar to\n",
    "        # soundecology R package.\n",
    "        # mask_param1 and mask_param2 are two parameters to find the regions of\n",
    "        # interest (ROIs). These parameters need to be adapted to the dataset in\n",
    "        # order to select ROIs\n",
    "        df_spec_ind, _ = features.all_spectral_alpha_indices(\n",
    "                                                Sxx_power,\n",
    "                                                tn,fn,\n",
    "                                                flim_low = [0,1500],\n",
    "                                                flim_mid = [1500,8000],\n",
    "                                                flim_hi  = [8000,20000],\n",
    "                                                gain = G, sensitivity = S,\n",
    "                                                verbose = False,\n",
    "                                                R_compatible = 'soundecology',\n",
    "                                                mask_param1 = 6,\n",
    "                                                mask_param2=0.5,\n",
    "                                                display = False)\n",
    "\n",
    "        \"\"\" ===================================================================\n",
    "                        Create a dataframe\n",
    "        ====================================================================\"\"\"\n",
    "        # add scalar indices into the df_indices dataframe\n",
    "        df_indices = pd.concat([df_audio_ind,\n",
    "                                df_spec_ind], axis=1)\n",
    "\n",
    "        # add date and audio_path\n",
    "        df_indices.insert(0, 'Date', date)\n",
    "        df_indices.insert(1, 'file', audio_path)\n",
    "\n",
    "    except:\n",
    "        # if an error occur, send an empty output\n",
    "        df_indices = pd.DataFrame()\n",
    "\n",
    "    return df_indices"
   ]
  },
  {
   "cell_type": "code",
   "execution_count": 4,
   "id": "28b6af30",
   "metadata": {
    "tags": []
   },
   "outputs": [],
   "source": [
    "SPECTRAL_FEATURES=['MEANf','VARf','SKEWf','KURTf','NBPEAKS','LEQf',\n",
    "'ENRf','BGNf','SNRf','Hf', 'EAS','ECU','ECV','EPS','EPS_KURT','EPS_SKEW','ACI',\n",
    "'NDSI','rBA','AnthroEnergy','BioEnergy','BI','ROU','ADI','AEI','LFC','MFC','HFC',\n",
    "'ACTspFract','ACTspCount','ACTspMean', 'EVNspFract','EVNspMean','EVNspCount',\n",
    "'TFSD','H_Havrda','H_Renyi','H_pairedShannon', 'H_gamma', 'H_GiniSimpson','RAOQ',\n",
    "'AGI','ROItotal','ROIcover']\n",
    "\n",
    "TEMPORAL_FEATURES=['ZCR','MEANt', 'VARt', 'SKEWt', 'KURTt',\n",
    "            'LEQt','BGNt', 'SNRt','MED', 'Ht','ACTtFraction', 'ACTtCount',\n",
    "            'ACTtMean','EVNtFraction', 'EVNtMean', 'EVNtCount']\n",
    "\n",
    "# Parameters of the audio recorder. This is not a mandatory but it allows\n",
    "# to compute the sound pressure level of the audio file (dB SPL) as a\n",
    "# sonometer would do.\n",
    "S = -35         # Sensbility microphone-35dBV (SM4) / -18dBV (Audiomoth)\n",
    "G = 26+16       # Amplification gain (26dB (SM4 preamplifier))"
   ]
  },
  {
   "cell_type": "code",
   "execution_count": null,
   "id": "dcb10652",
   "metadata": {
    "tags": []
   },
   "outputs": [
    {
     "name": "stdout",
     "output_type": "stream",
     "text": [
      "F02_20230420_154500.WAV\n",
      "F02_20230420_180000.WAV\n",
      "F02_20230423_200000.WAV\n",
      "F02_20230424_180000.WAV\n",
      "F02_20230425_160000.WAV\n",
      "F02_20230425_234500.WAV\n",
      "F02_20230428_194500.WAV\n",
      "F02_20230429_104500.WAV\n",
      "F02_20230429_120000.WAV\n",
      "F02_20230429_154500.WAV\n",
      "F02_20230429_214500.WAV\n",
      "H10_20230419_054500.WAV\n",
      "H10_20230419_070000.WAV\n",
      "H10_20230420_041500.WAV\n",
      "H10_20230420_163000.WAV\n",
      "H10_20230421_060000.WAV\n",
      "H10_20230422_010000.WAV\n",
      "H10_20230422_183000.WAV\n",
      "H10_20230423_174500.WAV\n",
      "H10_20230425_094500.WAV\n",
      "H10_20230425_150000.WAV\n",
      "Empty DataFrame\n",
      "Columns: []\n",
      "Index: []\n",
      "8\n",
      "1048.139183092\n"
     ]
    }
   ],
   "source": [
    "if __name__ == '__main__':  # Multiprocessing should be declared under the main entry point\n",
    "    mp.set_start_method(\"fork\")   # This start method is necessary for macOS. It is the default method on Linux\n",
    "\n",
    "    df = date_parser(\"Dataset2\", dateformat='SM4', verbose=True)\n",
    "\n",
    "    # Date is used as index. Reset the index in order to get back Date as column\n",
    "    df.reset_index(inplace = True)\n",
    "    \n",
    "    # At least 2 CPUs will be used in parallel and the files to process will be\n",
    "    # distributed on each CPU depending on their availability. This will speed up\n",
    "    # the process.\n",
    "\n",
    "    # create an empty dataframe. It will contain all ROIs found for each\n",
    "    # audio file in the directory\n",
    "    df_indices = pd.DataFrame()\n",
    "\n",
    "    # Number of CPU used for the calculation.\n",
    "    nb_cpu = os.cpu_count()\n",
    "    \n",
    "    print(df_indices)\n",
    "    print(nb_cpu)\n",
    "\n",
    "    tic = time.perf_counter()\n",
    "    print(tic)\n",
    "    # Multicpu process\n",
    "    # with tqdm(total=len(df), desc=\"multi cpu indices calculation...\") as pbar:\n",
    "    with futures.ProcessPoolExecutor(max_workers=nb_cpu) as pool:\n",
    "        # give the function to map on several CPUs as well its arguments as\n",
    "        # as list\n",
    "        for df_indices_temp in pool.map(\n",
    "            single_file_processing,\n",
    "            df[\"file\"].to_list(),\n",
    "            df[\"Date\"].to_list()\n",
    "        ):\n",
    "            # pbar.update(1)\n",
    "            print(\"done\")\n",
    "            df_indices = pd.concat([df_indices, df_indices_temp])\n",
    "            #guardar en excel\n",
    "            df_indices.to_excel(\"Indices.xlsx\")"
   ]
  },
  {
   "cell_type": "code",
   "execution_count": null,
   "id": "a8c88d68",
   "metadata": {
    "tags": []
   },
   "outputs": [],
   "source": [
    "df_indices\n",
    "df_indices.to_excel(\"Indices.xlsx\")"
   ]
  }
 ],
 "metadata": {
  "kernelspec": {
   "display_name": "Python [conda env:Audio]",
   "language": "python",
   "name": "conda-env-Audio-py"
  },
  "language_info": {
   "codemirror_mode": {
    "name": "ipython",
    "version": 3
   },
   "file_extension": ".py",
   "mimetype": "text/x-python",
   "name": "python",
   "nbconvert_exporter": "python",
   "pygments_lexer": "ipython3",
   "version": "3.11.3"
  }
 },
 "nbformat": 4,
 "nbformat_minor": 5
}
